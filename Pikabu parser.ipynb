{
 "cells": [
  {
   "cell_type": "markdown",
   "metadata": {},
   "source": [
    "## Pikabu parser"
   ]
  },
  {
   "cell_type": "code",
   "execution_count": 12,
   "metadata": {},
   "outputs": [],
   "source": [
    "import requests\n",
    "import time\n",
    "import re\n",
    "from bs4 import BeautifulSoup\n",
    "from pprint import pprint\n",
    "from nltk import sent_tokenize"
   ]
  },
  {
   "cell_type": "code",
   "execution_count": 13,
   "metadata": {},
   "outputs": [],
   "source": [
    "def get_posts(page: str, tag: str):\n",
    "    soup = BeautifulSoup(page, \"html.parser\")\n",
    "    stories = soup.find_all('div', {'class': 'story__main'})\n",
    "    if stories == []:\n",
    "        print(f'Nothing found for tag {tag}')\n",
    "    else:\n",
    "        with open('pikabu_sep_by_sent.csv', 'a', encoding='UTF-8') as f:\n",
    "            for story in stories[:-1]: # because last post is an ad\n",
    "                title = story.find('a', {'class': 'story__title-link'}).text.replace(', ', ',\\t\\n')\n",
    "                f.write('\\t\\n'.join(sent_tokenize(title)))\n",
    "                f.write('\\t\\n')\n",
    "                post = story.find('div', {'class': 'story__content-inner'}).text.replace('\\n\\n', '')\n",
    "                post = re.sub(regexp, '. \\g<1>', post)\n",
    "                f.write('\\t\\n'.join(sent_tokenize(post)))\n",
    "                f.write('\\t\\n\\n') # empty line between posts"
   ]
  },
  {
   "cell_type": "code",
   "execution_count": 17,
   "metadata": {},
   "outputs": [],
   "source": [
    "def parse_section(tag: str):\n",
    "    for n in range(1, 50): # 50 pages\n",
    "        url = f'https://pikabu.ru/tag/{tag}?st=3&page={n}'\n",
    "        headers = {\n",
    "                'User-Agent': 'Mozilla/5.0 (Windows NT 10.0; Win64; x64) AppleWebKit/537.36 (KHTML, like Gecko) Chrome/74.0.3729.169 Safari/537.36'\n",
    "            }\n",
    "        response = requests.get(url, headers=headers)\n",
    "        page = response.text\n",
    "        get_posts(page, tag)\n",
    "    print(f'Тег {tag} обкачен') # Tag {tag} has been parsed"
   ]
  },
  {
   "cell_type": "code",
   "execution_count": 19,
   "metadata": {},
   "outputs": [
    {
     "name": "stdout",
     "output_type": "stream",
     "text": [
      "Тег Ирония обкачен\n",
      "Тег Юмор обкачен\n",
      "Тег Сарказм обкачен\n"
     ]
    }
   ],
   "source": [
    "regexp = re.compile(' ?\\.([А-ЯЁ])')\n",
    "regexp2 = re.compile('(, |\\. )')\n",
    "tags = ['Ирония','Юмор', 'Сарказм']\n",
    "for tag in tags:\n",
    "    with open('pikabu_sep_by_sent.csv', 'a', encoding='UTF-8') as f:\n",
    "        f.write(f'\\n\\n{tag.upper()}\\n\\n')\n",
    "    parse_section(tag)"
   ]
  }
 ],
 "metadata": {
  "kernelspec": {
   "display_name": "Python 3",
   "language": "python",
   "name": "python3"
  },
  "language_info": {
   "codemirror_mode": {
    "name": "ipython",
    "version": 3
   },
   "file_extension": ".py",
   "mimetype": "text/x-python",
   "name": "python",
   "nbconvert_exporter": "python",
   "pygments_lexer": "ipython3",
   "version": "3.7.3"
  }
 },
 "nbformat": 4,
 "nbformat_minor": 2
}
