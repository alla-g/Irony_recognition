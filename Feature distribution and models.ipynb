{
 "cells": [
  {
   "cell_type": "markdown",
   "metadata": {},
   "source": [
    "## Feature distribution and models"
   ]
  },
  {
   "cell_type": "code",
   "execution_count": 2,
   "metadata": {},
   "outputs": [
    {
     "name": "stderr",
     "output_type": "stream",
     "text": [
      "C:\\Users\\User\\Anaconda3\\lib\\site-packages\\statsmodels\\tools\\_testing.py:19: FutureWarning: pandas.util.testing is deprecated. Use the functions in the public API at pandas.testing instead.\n",
      "  import pandas.util.testing as tm\n"
     ]
    }
   ],
   "source": [
    "import pandas as pd\n",
    "\n",
    "import matplotlib.pyplot as plt\n",
    "\n",
    "from nltk import word_tokenize\n",
    "from pymorphy2 import MorphAnalyzer\n",
    "\n",
    "from statistics import mean\n",
    "from random import choices\n",
    "\n",
    "from sklearn.model_selection import train_test_split\n",
    "from sklearn.linear_model import LogisticRegression\n",
    "from sklearn.metrics import plot_confusion_matrix\n",
    "from sklearn.metrics import precision_score\n",
    "from sklearn.metrics import recall_score\n",
    "from sklearn.metrics import accuracy_score\n",
    "from sklearn.metrics import f1_score\n",
    "\n",
    "m = MorphAnalyzer()"
   ]
  },
  {
   "cell_type": "code",
   "execution_count": 3,
   "metadata": {},
   "outputs": [
    {
     "name": "stderr",
     "output_type": "stream",
     "text": [
      "C:\\Users\\User\\Anaconda3\\lib\\site-packages\\ipykernel_launcher.py:1: FutureWarning: Passing a negative integer is deprecated in version 1.0 and will not be supported in future version. Instead, use None to not limit the column width.\n",
      "  \"\"\"Entry point for launching an IPython kernel.\n"
     ]
    }
   ],
   "source": [
    "pd.set_option('display.max_colwidth', -1)"
   ]
  },
  {
   "cell_type": "markdown",
   "metadata": {},
   "source": [
    "### Opening dataframes"
   ]
  },
  {
   "cell_type": "code",
   "execution_count": 2,
   "metadata": {},
   "outputs": [
    {
     "data": {
      "text/html": [
       "<div>\n",
       "<style scoped>\n",
       "    .dataframe tbody tr th:only-of-type {\n",
       "        vertical-align: middle;\n",
       "    }\n",
       "\n",
       "    .dataframe tbody tr th {\n",
       "        vertical-align: top;\n",
       "    }\n",
       "\n",
       "    .dataframe thead th {\n",
       "        text-align: right;\n",
       "    }\n",
       "</style>\n",
       "<table border=\"1\" class=\"dataframe\">\n",
       "  <thead>\n",
       "    <tr style=\"text-align: right;\">\n",
       "      <th></th>\n",
       "      <th>Sentence</th>\n",
       "      <th>Ironic</th>\n",
       "      <th>Quotes</th>\n",
       "      <th>Exclamation</th>\n",
       "      <th>Question</th>\n",
       "      <th>Multiple brackets</th>\n",
       "      <th>Interjections</th>\n",
       "      <th>Markers</th>\n",
       "      <th>Mistakes</th>\n",
       "      <th>P&amp;N</th>\n",
       "      <th>P near N</th>\n",
       "      <th>Max vec dist</th>\n",
       "      <th>Max vec sg dist</th>\n",
       "      <th>Weird markers</th>\n",
       "    </tr>\n",
       "  </thead>\n",
       "  <tbody>\n",
       "    <tr>\n",
       "      <th>0</th>\n",
       "      <td>Ребят, приготовьтесь,, эта информация может Ва...</td>\n",
       "      <td>1</td>\n",
       "      <td>0</td>\n",
       "      <td>0</td>\n",
       "      <td>0</td>\n",
       "      <td>0</td>\n",
       "      <td>0</td>\n",
       "      <td>0</td>\n",
       "      <td>1</td>\n",
       "      <td>1</td>\n",
       "      <td>0</td>\n",
       "      <td>0.157920</td>\n",
       "      <td>0.617886</td>\n",
       "      <td>0</td>\n",
       "    </tr>\n",
       "    <tr>\n",
       "      <th>1</th>\n",
       "      <td>Потом эти кадры напечатают и издадут глянцевым...</td>\n",
       "      <td>0</td>\n",
       "      <td>0</td>\n",
       "      <td>0</td>\n",
       "      <td>0</td>\n",
       "      <td>0</td>\n",
       "      <td>0</td>\n",
       "      <td>0</td>\n",
       "      <td>0</td>\n",
       "      <td>0</td>\n",
       "      <td>0</td>\n",
       "      <td>0.100547</td>\n",
       "      <td>0.472318</td>\n",
       "      <td>0</td>\n",
       "    </tr>\n",
       "    <tr>\n",
       "      <th>2</th>\n",
       "      <td>Наглых москвичей там, питерских алкашей не над...</td>\n",
       "      <td>1</td>\n",
       "      <td>0</td>\n",
       "      <td>0</td>\n",
       "      <td>0</td>\n",
       "      <td>0</td>\n",
       "      <td>0</td>\n",
       "      <td>0</td>\n",
       "      <td>1</td>\n",
       "      <td>0</td>\n",
       "      <td>0</td>\n",
       "      <td>0.081867</td>\n",
       "      <td>0.196858</td>\n",
       "      <td>0</td>\n",
       "    </tr>\n",
       "    <tr>\n",
       "      <th>3</th>\n",
       "      <td>По ходу, здесь обкатывали схему строительства ...</td>\n",
       "      <td>0</td>\n",
       "      <td>0</td>\n",
       "      <td>0</td>\n",
       "      <td>0</td>\n",
       "      <td>0</td>\n",
       "      <td>0</td>\n",
       "      <td>0</td>\n",
       "      <td>0</td>\n",
       "      <td>0</td>\n",
       "      <td>0</td>\n",
       "      <td>0.118279</td>\n",
       "      <td>0.395155</td>\n",
       "      <td>0</td>\n",
       "    </tr>\n",
       "    <tr>\n",
       "      <th>4</th>\n",
       "      <td>Ага, на батуте прыгала, в зоне АТО, и случайно...</td>\n",
       "      <td>1</td>\n",
       "      <td>0</td>\n",
       "      <td>0</td>\n",
       "      <td>0</td>\n",
       "      <td>0</td>\n",
       "      <td>0</td>\n",
       "      <td>0</td>\n",
       "      <td>2</td>\n",
       "      <td>0</td>\n",
       "      <td>0</td>\n",
       "      <td>0.108868</td>\n",
       "      <td>0.489113</td>\n",
       "      <td>0</td>\n",
       "    </tr>\n",
       "  </tbody>\n",
       "</table>\n",
       "</div>"
      ],
      "text/plain": [
       "                                            Sentence  Ironic  Quotes  \\\n",
       "0  Ребят, приготовьтесь,, эта информация может Ва...       1       0   \n",
       "1  Потом эти кадры напечатают и издадут глянцевым...       0       0   \n",
       "2  Наглых москвичей там, питерских алкашей не над...       1       0   \n",
       "3  По ходу, здесь обкатывали схему строительства ...       0       0   \n",
       "4  Ага, на батуте прыгала, в зоне АТО, и случайно...       1       0   \n",
       "\n",
       "   Exclamation  Question  Multiple brackets  Interjections  Markers  Mistakes  \\\n",
       "0            0         0                  0              0        0         1   \n",
       "1            0         0                  0              0        0         0   \n",
       "2            0         0                  0              0        0         1   \n",
       "3            0         0                  0              0        0         0   \n",
       "4            0         0                  0              0        0         2   \n",
       "\n",
       "   P&N  P near N  Max vec dist  Max vec sg dist  Weird markers  \n",
       "0    1         0      0.157920         0.617886              0  \n",
       "1    0         0      0.100547         0.472318              0  \n",
       "2    0         0      0.081867         0.196858              0  \n",
       "3    0         0      0.118279         0.395155              0  \n",
       "4    0         0      0.108868         0.489113              0  "
      ]
     },
     "execution_count": 2,
     "metadata": {},
     "output_type": "execute_result"
    }
   ],
   "source": [
    "new_df = pd.read_csv('train_features.csv', sep=';')\n",
    "new_df.Ironic = new_df.Ironic.astype(int)\n",
    "new_df.head(5)"
   ]
  },
  {
   "cell_type": "code",
   "execution_count": 4,
   "metadata": {},
   "outputs": [
    {
     "name": "stdout",
     "output_type": "stream",
     "text": [
      "Sentences in total: 100\n",
      "Ironic sentences: 30\n"
     ]
    },
    {
     "data": {
      "text/html": [
       "<div>\n",
       "<style scoped>\n",
       "    .dataframe tbody tr th:only-of-type {\n",
       "        vertical-align: middle;\n",
       "    }\n",
       "\n",
       "    .dataframe tbody tr th {\n",
       "        vertical-align: top;\n",
       "    }\n",
       "\n",
       "    .dataframe thead th {\n",
       "        text-align: right;\n",
       "    }\n",
       "</style>\n",
       "<table border=\"1\" class=\"dataframe\">\n",
       "  <thead>\n",
       "    <tr style=\"text-align: right;\">\n",
       "      <th></th>\n",
       "      <th>Sentence</th>\n",
       "      <th>Ironic</th>\n",
       "      <th>Quotes</th>\n",
       "      <th>Exclamation</th>\n",
       "      <th>Question</th>\n",
       "      <th>Multiple brackets</th>\n",
       "      <th>Interjections</th>\n",
       "      <th>Markers</th>\n",
       "      <th>Mistakes</th>\n",
       "      <th>P&amp;N</th>\n",
       "      <th>P near N</th>\n",
       "      <th>Max vec dist</th>\n",
       "      <th>Max vec sg dist</th>\n",
       "      <th>Weird markers</th>\n",
       "    </tr>\n",
       "  </thead>\n",
       "  <tbody>\n",
       "    <tr>\n",
       "      <th>0</th>\n",
       "      <td>Можете спать спокойно — террористы не пройдут!</td>\n",
       "      <td>1</td>\n",
       "      <td>0</td>\n",
       "      <td>1</td>\n",
       "      <td>0</td>\n",
       "      <td>0</td>\n",
       "      <td>0</td>\n",
       "      <td>0</td>\n",
       "      <td>0</td>\n",
       "      <td>1</td>\n",
       "      <td>0</td>\n",
       "      <td>0.105210</td>\n",
       "      <td>0.355361</td>\n",
       "      <td>0</td>\n",
       "    </tr>\n",
       "    <tr>\n",
       "      <th>1</th>\n",
       "      <td>Во всём мире люди очень боятся терактов, даже произнесение слова \"террорист\" у многих вызывает панику.</td>\n",
       "      <td>0</td>\n",
       "      <td>1</td>\n",
       "      <td>0</td>\n",
       "      <td>0</td>\n",
       "      <td>0</td>\n",
       "      <td>0</td>\n",
       "      <td>0</td>\n",
       "      <td>0</td>\n",
       "      <td>1</td>\n",
       "      <td>0</td>\n",
       "      <td>0.225400</td>\n",
       "      <td>0.498467</td>\n",
       "      <td>0</td>\n",
       "    </tr>\n",
       "    <tr>\n",
       "      <th>2</th>\n",
       "      <td>Но у меня для вас прекрасные новости из Кургана!</td>\n",
       "      <td>1</td>\n",
       "      <td>0</td>\n",
       "      <td>1</td>\n",
       "      <td>0</td>\n",
       "      <td>0</td>\n",
       "      <td>0</td>\n",
       "      <td>0</td>\n",
       "      <td>0</td>\n",
       "      <td>0</td>\n",
       "      <td>0</td>\n",
       "      <td>0.053463</td>\n",
       "      <td>0.294555</td>\n",
       "      <td>0</td>\n",
       "    </tr>\n",
       "    <tr>\n",
       "      <th>3</th>\n",
       "      <td>Там наконец пришли к решению этой глобальной проблемы.</td>\n",
       "      <td>1</td>\n",
       "      <td>0</td>\n",
       "      <td>0</td>\n",
       "      <td>0</td>\n",
       "      <td>0</td>\n",
       "      <td>0</td>\n",
       "      <td>0</td>\n",
       "      <td>0</td>\n",
       "      <td>0</td>\n",
       "      <td>0</td>\n",
       "      <td>0.095846</td>\n",
       "      <td>0.424597</td>\n",
       "      <td>0</td>\n",
       "    </tr>\n",
       "    <tr>\n",
       "      <th>4</th>\n",
       "      <td>Теперь можно спать спокойно.</td>\n",
       "      <td>1</td>\n",
       "      <td>0</td>\n",
       "      <td>0</td>\n",
       "      <td>0</td>\n",
       "      <td>0</td>\n",
       "      <td>0</td>\n",
       "      <td>0</td>\n",
       "      <td>0</td>\n",
       "      <td>0</td>\n",
       "      <td>0</td>\n",
       "      <td>0.000000</td>\n",
       "      <td>0.000000</td>\n",
       "      <td>0</td>\n",
       "    </tr>\n",
       "  </tbody>\n",
       "</table>\n",
       "</div>"
      ],
      "text/plain": [
       "                                                                                                 Sentence  \\\n",
       "0  Можете спать спокойно — террористы не пройдут!                                                           \n",
       "1  Во всём мире люди очень боятся терактов, даже произнесение слова \"террорист\" у многих вызывает панику.   \n",
       "2  Но у меня для вас прекрасные новости из Кургана!                                                         \n",
       "3  Там наконец пришли к решению этой глобальной проблемы.                                                   \n",
       "4  Теперь можно спать спокойно.                                                                             \n",
       "\n",
       "   Ironic  Quotes  Exclamation  Question  Multiple brackets  Interjections  \\\n",
       "0  1       0       1            0         0                  0               \n",
       "1  0       1       0            0         0                  0               \n",
       "2  1       0       1            0         0                  0               \n",
       "3  1       0       0            0         0                  0               \n",
       "4  1       0       0            0         0                  0               \n",
       "\n",
       "   Markers  Mistakes  P&N  P near N  Max vec dist  Max vec sg dist  \\\n",
       "0  0        0         1    0         0.105210      0.355361          \n",
       "1  0        0         1    0         0.225400      0.498467          \n",
       "2  0        0         0    0         0.053463      0.294555          \n",
       "3  0        0         0    0         0.095846      0.424597          \n",
       "4  0        0         0    0         0.000000      0.000000          \n",
       "\n",
       "   Weird markers  \n",
       "0  0              \n",
       "1  0              \n",
       "2  0              \n",
       "3  0              \n",
       "4  0              "
      ]
     },
     "execution_count": 4,
     "metadata": {},
     "output_type": "execute_result"
    }
   ],
   "source": [
    "test_df = pd.read_csv('test_features.csv', sep=';')\n",
    "print(f'Sentences in total: {len(test_df)}')\n",
    "print(f'Ironic sentences: {test_df[\"Ironic\"].value_counts()[1.0]}')\n",
    "test_df.head(5)"
   ]
  },
  {
   "cell_type": "markdown",
   "metadata": {},
   "source": [
    "### Creating feature distribution visualization"
   ]
  },
  {
   "cell_type": "code",
   "execution_count": 64,
   "metadata": {},
   "outputs": [
    {
     "data": {
      "text/plain": [
       "[Text(0, 0, 'неироничное'), Text(0, 0, 'ироничное')]"
      ]
     },
     "execution_count": 64,
     "metadata": {},
     "output_type": "execute_result"
    },
    {
     "data": {
      "image/png": "[encoded data removed]",
      "text/plain": [
       "<Figure size 504x360 with 1 Axes>"
      ]
     },
     "metadata": {
      "needs_background": "light"
     },
     "output_type": "display_data"
    }
   ],
   "source": [
    "boxplot = new_df.boxplot(column='Max vec dist', by='Ironic',\n",
    "                         figsize=(7,5), return_type='dict')\n",
    "\n",
    "[[item.set_color('black') for item in boxplot[key]['boxes']] for key in boxplot.keys()]\n",
    "[[item.set_color('black') for item in boxplot[key]['fliers']] for key in boxplot.keys()]\n",
    "[[item.set_color('black') for item in boxplot[key]['medians']] for key in boxplot.keys()]\n",
    "[[item.set_markerfacecolor('black') for item in boxplot[key]['means']] for key in boxplot.keys()]\n",
    "[[item.set_color('black') for item in boxplot[key]['whiskers']] for key in boxplot.keys()]\n",
    "[[item.set_color('black') for item in boxplot[key]['caps']] for key in boxplot.keys()]\n",
    "\n",
    "plt.suptitle('')\n",
    "\n",
    "boxplot = plt.gca()\n",
    "boxplot.set_xlabel('Класс')\n",
    "boxplot.set_ylabel('Расстояние')\n",
    "boxplot.set_title('Модель ELMo')\n",
    "boxplot.set_xticklabels(['неироничное', 'ироничное'])"
   ]
  },
  {
   "cell_type": "code",
   "execution_count": 167,
   "metadata": {},
   "outputs": [
    {
     "data": {
      "image/png": "[encoded data removed]",
      "text/plain": [
       "<Figure size 432x288 with 1 Axes>"
      ]
     },
     "metadata": {
      "needs_background": "light"
     },
     "output_type": "display_data"
    }
   ],
   "source": [
    "nonir = new_df[(new_df.Ironic == 0) & (new_df['Markers'] == 1)].count()['Sentence']\n",
    "ir = new_df[(new_df.Ironic == 1) & (new_df['Markers'] == 1)].count()['Sentence']\n",
    "\n",
    "plt.bar(['неироничное', 'ироничное'], [nonir, ir],\n",
    "       color='gray', width=0.4)\n",
    "plt.xlabel('Класс')\n",
    "plt.ylabel('Количество предложений')\n",
    "plt.show()"
   ]
  },
  {
   "cell_type": "code",
   "execution_count": 5,
   "metadata": {},
   "outputs": [
    {
     "data": {
      "image/png": "[encoded data removed]",
      "text/plain": [
       "<Figure size 432x288 with 1 Axes>"
      ]
     },
     "metadata": {
      "needs_background": "light"
     },
     "output_type": "display_data"
    }
   ],
   "source": [
    "nonir = new_df[new_df.Ironic == 0]['Question'].mean()\n",
    "ir = new_df[new_df.Ironic == 1]['Question'].mean()\n",
    "\n",
    "plt.bar(['неироничное', 'ироничное'], [nonir, ir],\n",
    "       color='gray', width=0.4)\n",
    "plt.xlabel('Класс')\n",
    "plt.ylabel('Среднее значение признака')\n",
    "plt.show()"
   ]
  },
  {
   "cell_type": "code",
   "execution_count": 37,
   "metadata": {},
   "outputs": [
    {
     "data": {
      "image/png": "[encoded data removed]",
      "text/plain": [
       "<Figure size 432x288 with 1 Axes>"
      ]
     },
     "metadata": {
      "needs_background": "light"
     },
     "output_type": "display_data"
    }
   ],
   "source": [
    "c = new_df[new_df.Ironic == 1]['Weird markers'].value_counts()\n",
    "counts = c.to_dict()\n",
    "\n",
    "plt.bar(counts.keys(), counts.values(),\n",
    "       color='gray', width=0.2)\n",
    "plt.xlabel('Количество маркеров')\n",
    "plt.ylabel('Количество предложений')\n",
    "plt.title('Неироничные предложения')\n",
    "\n",
    "plt.ylim([0 ,800])\n",
    "plt.show()"
   ]
  },
  {
   "cell_type": "code",
   "execution_count": 7,
   "metadata": {},
   "outputs": [
    {
     "data": {
      "text/plain": [
       "[Text(0, 0, 'неироничное'), Text(0, 0, 'ироничное')]"
      ]
     },
     "execution_count": 7,
     "metadata": {},
     "output_type": "execute_result"
    },
    {
     "data": {
      "image/png": "[encoded data removed]",
      "text/plain": [
       "<Figure size 504x360 with 1 Axes>"
      ]
     },
     "metadata": {
      "needs_background": "light"
     },
     "output_type": "display_data"
    }
   ],
   "source": [
    "boxplot = new_df.boxplot(column='Max vec sg dist', by='Ironic',\n",
    "                         figsize=(7,5), return_type='dict')\n",
    "\n",
    "[[item.set_color('black') for item in boxplot[key]['boxes']] for key in boxplot.keys()]\n",
    "[[item.set_color('black') for item in boxplot[key]['fliers']] for key in boxplot.keys()]\n",
    "[[item.set_color('black') for item in boxplot[key]['medians']] for key in boxplot.keys()]\n",
    "[[item.set_markerfacecolor('black') for item in boxplot[key]['means']] for key in boxplot.keys()]\n",
    "[[item.set_color('black') for item in boxplot[key]['whiskers']] for key in boxplot.keys()]\n",
    "[[item.set_color('black') for item in boxplot[key]['caps']] for key in boxplot.keys()]\n",
    "\n",
    "plt.suptitle('')\n",
    "\n",
    "boxplot = plt.gca()\n",
    "boxplot.set_xlabel('Класс')\n",
    "boxplot.set_ylabel('Расстояние')\n",
    "boxplot.set_title('Распределение признака\\nмаксимальное векторное расстояние')\n",
    "boxplot.set_xticklabels(['неироничное', 'ироничное'])"
   ]
  },
  {
   "cell_type": "markdown",
   "metadata": {},
   "source": [
    "### Testing models"
   ]
  },
  {
   "cell_type": "markdown",
   "metadata": {},
   "source": [
    "#### Random classifier"
   ]
  },
  {
   "cell_type": "code",
   "execution_count": 33,
   "metadata": {},
   "outputs": [
    {
     "name": "stdout",
     "output_type": "stream",
     "text": [
      "0.485\n",
      "0.27584373444939003\n",
      "0.44333333333333336\n",
      "0.3392384245413302\n"
     ]
    }
   ],
   "source": [
    "rand_accuracies = []\n",
    "rand_precisions = []\n",
    "rand_recalls = []\n",
    "rand_f1_scores = []\n",
    "\n",
    "for i in range(10):\n",
    "    truths = test_df[target]\n",
    "    preds = choices([0,1], [0.5, 0.5], k=len(truths))\n",
    "    rand_accuracies.append(accuracy_score(truths, preds))\n",
    "    rand_precisions.append(precision_score(truths, preds))\n",
    "    rand_recalls.append(recall_score(truths, preds))\n",
    "    rand_f1_scores.append(f1_score(truths, preds))\n",
    "\n",
    "print(mean(rand_accuracies))\n",
    "print(mean(rand_precisions))\n",
    "print(mean(rand_recalls))\n",
    "print(mean(rand_f1_scores))"
   ]
  },
  {
   "cell_type": "markdown",
   "metadata": {},
   "source": [
    "#### Baseline Skip-gram"
   ]
  },
  {
   "cell_type": "code",
   "execution_count": 180,
   "metadata": {},
   "outputs": [
    {
     "name": "stdout",
     "output_type": "stream",
     "text": [
      "0.51\n",
      "0.28888888888888886\n",
      "0.43333333333333335\n",
      "0.3466666666666666\n"
     ]
    }
   ],
   "source": [
    "baseline_accuracies = []\n",
    "baseline_precisions = []\n",
    "baseline_recalls = []\n",
    "baseline_f1_scores = []\n",
    "\n",
    "for i in range(10):\n",
    "    target = 'Ironic'\n",
    "    b_feature = 'Max vec sg dist'\n",
    "\n",
    "    b_regr = LogisticRegression()\n",
    "    b_regr.fit(new_df[b_feature].values.reshape(-1, 1), new_df[target])\n",
    "    \n",
    "    preds = b_regr.predict(test_df[b_feature].values.reshape(-1, 1))\n",
    "    truths = test_df[target]\n",
    "    baseline_accuracies.append(accuracy_score(truths, preds))\n",
    "    baseline_precisions.append(precision_score(truths, preds))\n",
    "    baseline_recalls.append(recall_score(truths, preds))\n",
    "    baseline_f1_scores.append(f1_score(truths, preds))\n",
    "\n",
    "print(mean(baseline_accuracies))\n",
    "print(mean(baseline_precisions))\n",
    "print(mean(baseline_recalls))\n",
    "print(mean(baseline_f1_scores))"
   ]
  },
  {
   "cell_type": "markdown",
   "metadata": {},
   "source": [
    "#### Baseline ELMo"
   ]
  },
  {
   "cell_type": "code",
   "execution_count": 73,
   "metadata": {},
   "outputs": [
    {
     "name": "stdout",
     "output_type": "stream",
     "text": [
      "0.55\n",
      "0.2727272727272727\n",
      "0.3\n",
      "0.28571428571428564\n"
     ]
    }
   ],
   "source": [
    "baseline_accuracies = []\n",
    "baseline_precisions = []\n",
    "baseline_recalls = []\n",
    "baseline_f1_scores = []\n",
    "\n",
    "for i in range(10):\n",
    "    target = 'Ironic'\n",
    "    b_feature = 'Max vec dist'\n",
    "\n",
    "    b_regr = LogisticRegression()\n",
    "    b_regr.fit(new_df[b_feature].values.reshape(-1, 1), new_df[target])\n",
    "    \n",
    "    preds = b_regr.predict(test_df[b_feature].values.reshape(-1, 1))\n",
    "    truths = test_df[target]\n",
    "    baseline_accuracies.append(accuracy_score(truths, preds))\n",
    "    baseline_precisions.append(precision_score(truths, preds))\n",
    "    baseline_recalls.append(recall_score(truths, preds))\n",
    "    baseline_f1_scores.append(f1_score(truths, preds))\n",
    "\n",
    "print(mean(baseline_accuracies))\n",
    "print(mean(baseline_precisions))\n",
    "print(mean(baseline_recalls))\n",
    "print(mean(baseline_f1_scores))"
   ]
  },
  {
   "cell_type": "markdown",
   "metadata": {},
   "source": [
    "#### Full Skip-gram classifier"
   ]
  },
  {
   "cell_type": "code",
   "execution_count": 5,
   "metadata": {},
   "outputs": [
    {
     "name": "stdout",
     "output_type": "stream",
     "text": [
      "0.61\n",
      "0.3783783783783784\n",
      "0.4666666666666667\n",
      "0.417910447761194\n"
     ]
    }
   ],
   "source": [
    "test_accuracies = []\n",
    "test_precisions = []\n",
    "test_recalls = []\n",
    "test_f1_scores = []\n",
    "\n",
    "for i in range(10):\n",
    "    target = 'Ironic'\n",
    "    features = [col for col in new_df.columns\n",
    "                if col not in {'Sentence', target, 'Markers', 'Max vec dist'}]\n",
    "    st_regr = LogisticRegression()\n",
    "    st_regr.fit(new_df[features], new_df[target])\n",
    "    \n",
    "    preds = st_regr.predict(test_df[features])\n",
    "    truths = test_df[target]\n",
    "    test_accuracies.append(accuracy_score(truths, preds))\n",
    "    test_precisions.append(precision_score(truths, preds))\n",
    "    test_recalls.append(recall_score(truths, preds))\n",
    "    test_f1_scores.append(f1_score(truths, preds))\n",
    "\n",
    "print(mean(test_accuracies))\n",
    "print(mean(test_precisions))\n",
    "print(mean(test_recalls))\n",
    "print(mean(test_f1_scores))"
   ]
  },
  {
   "cell_type": "code",
   "execution_count": 10,
   "metadata": {},
   "outputs": [
    {
     "name": "stdout",
     "output_type": "stream",
     "text": [
      "Quotes 1.503559957797086\n",
      "Multiple brackets 1.4374001560876473\n",
      "Exclamation 1.035022315737415\n",
      "Weird markers 1.0073748534988582\n",
      "Max vec sg dist 0.8630186626487908\n",
      "P&N 0.5184854268913428\n",
      "P near N 0.16927835211762793\n",
      "Mistakes 0.09463720743657601\n",
      "Question 0.029632419350281318\n",
      "Interjections -0.46670519408988825\n"
     ]
    }
   ],
   "source": [
    "# Skip-gram weights\n",
    "weights = dict(zip(features, st_regr.coef_[0]))\n",
    "for w in sorted(weights, key=weights.get, reverse=True):\n",
    "    print(w, weights[w])"
   ]
  },
  {
   "cell_type": "code",
   "execution_count": 14,
   "metadata": {
    "scrolled": true
   },
   "outputs": [
    {
     "data": {
      "text/html": [
       "<div>\n",
       "<style scoped>\n",
       "    .dataframe tbody tr th:only-of-type {\n",
       "        vertical-align: middle;\n",
       "    }\n",
       "\n",
       "    .dataframe tbody tr th {\n",
       "        vertical-align: top;\n",
       "    }\n",
       "\n",
       "    .dataframe thead th {\n",
       "        text-align: right;\n",
       "    }\n",
       "</style>\n",
       "<table border=\"1\" class=\"dataframe\">\n",
       "  <thead>\n",
       "    <tr style=\"text-align: right;\">\n",
       "      <th></th>\n",
       "      <th>Sentence</th>\n",
       "      <th>Prediction</th>\n",
       "      <th>Label</th>\n",
       "    </tr>\n",
       "  </thead>\n",
       "  <tbody>\n",
       "    <tr>\n",
       "      <th>0</th>\n",
       "      <td>Можете спать спокойно — террористы не пройдут!</td>\n",
       "      <td>1</td>\n",
       "      <td>1</td>\n",
       "    </tr>\n",
       "    <tr>\n",
       "      <th>2</th>\n",
       "      <td>Но у меня для вас прекрасные новости из Кургана!</td>\n",
       "      <td>1</td>\n",
       "      <td>1</td>\n",
       "    </tr>\n",
       "    <tr>\n",
       "      <th>6</th>\n",
       "      <td>И, должен заметить, это не просто какие-то там...</td>\n",
       "      <td>1</td>\n",
       "      <td>1</td>\n",
       "    </tr>\n",
       "    <tr>\n",
       "      <th>13</th>\n",
       "      <td>Враг не пройдет!</td>\n",
       "      <td>1</td>\n",
       "      <td>1</td>\n",
       "    </tr>\n",
       "    <tr>\n",
       "      <th>14</th>\n",
       "      <td>Но если вдруг вам все равно кажется, что через...</td>\n",
       "      <td>1</td>\n",
       "      <td>1</td>\n",
       "    </tr>\n",
       "  </tbody>\n",
       "</table>\n",
       "</div>"
      ],
      "text/plain": [
       "                                             Sentence  Prediction  Label\n",
       "0      Можете спать спокойно — террористы не пройдут!           1      1\n",
       "2    Но у меня для вас прекрасные новости из Кургана!           1      1\n",
       "6   И, должен заметить, это не просто какие-то там...           1      1\n",
       "13                                   Враг не пройдет!           1      1\n",
       "14  Но если вдруг вам все равно кажется, что через...           1      1"
      ]
     },
     "execution_count": 14,
     "metadata": {},
     "output_type": "execute_result"
    }
   ],
   "source": [
    "# save Skip-gram results\n",
    "sents = test_df['Sentence']\n",
    "answers_df = pd.DataFrame({'Sentence': sents,\n",
    "                           'Prediction': preds,\n",
    "                           'Label': truths})\n",
    "true_pos = answers_df[(answers_df.Prediction == 1) & (answers_df.Label == 1)]\n",
    "true_neg = answers_df[(answers_df.Prediction == 0) & (answers_df.Label == 0)]\n",
    "false_pos = answers_df[(answers_df.Prediction == 1) & (answers_df.Label == 0)]\n",
    "false_neg = answers_df[(answers_df.Prediction == 0) & (answers_df.Label == 1)]\n",
    "to_save = pd.concat([true_pos, true_neg, false_pos, false_neg], sort=False, axis=0)\n",
    "to_save.head(5)"
   ]
  },
  {
   "cell_type": "code",
   "execution_count": 15,
   "metadata": {},
   "outputs": [],
   "source": [
    "to_save.to_csv('test_results.csv', sep=';', index=False)"
   ]
  },
  {
   "cell_type": "markdown",
   "metadata": {},
   "source": [
    "#### Full ELMo classifier"
   ]
  },
  {
   "cell_type": "code",
   "execution_count": 68,
   "metadata": {},
   "outputs": [
    {
     "name": "stdout",
     "output_type": "stream",
     "text": [
      "0.6\n",
      "0.3684210526315789\n",
      "0.4666666666666667\n",
      "0.4117647058823529\n"
     ]
    }
   ],
   "source": [
    "test_accuracies = []\n",
    "test_precisions = []\n",
    "test_recalls = []\n",
    "test_f1_scores = []\n",
    "\n",
    "for i in range(10):\n",
    "    target = 'Ironic'\n",
    "    features = [col for col in new_df.columns\n",
    "                if col not in {'Sentence', target, 'Markers', 'Max vec sg dist'}]\n",
    "    et_regr = LogisticRegression()\n",
    "    et_regr.fit(new_df[features], new_df[target])\n",
    "    \n",
    "    preds = et_regr.predict(test_df[features])\n",
    "    truths = test_df[target]\n",
    "    test_accuracies.append(accuracy_score(truths, preds))\n",
    "    test_precisions.append(precision_score(truths, preds))\n",
    "    test_recalls.append(recall_score(truths, preds))\n",
    "    test_f1_scores.append(f1_score(truths, preds))\n",
    "\n",
    "print(mean(test_accuracies))\n",
    "print(mean(test_precisions))\n",
    "print(mean(test_recalls))\n",
    "print(mean(test_f1_scores))"
   ]
  },
  {
   "cell_type": "code",
   "execution_count": 184,
   "metadata": {},
   "outputs": [
    {
     "name": "stdout",
     "output_type": "stream",
     "text": [
      "Max vec dist 1.964047695311495\n",
      "Quotes 1.5544134432373642\n",
      "Multiple brackets 1.4310264779312305\n",
      "Weird markers 1.0281346026555105\n",
      "Exclamation 1.004891911500848\n",
      "P&N 0.5836159508992513\n",
      "P near N 0.18021553697010262\n",
      "Mistakes 0.11825968307298843\n",
      "Question -0.0032207542136431363\n",
      "Interjections -0.42130638453692404\n"
     ]
    }
   ],
   "source": [
    "# ELMo weights\n",
    "weights = dict(zip(features, et_regr.coef_[0]))\n",
    "for w in sorted(weights, key=weights.get, reverse=True):\n",
    "    print(w, weights[w])"
   ]
  },
  {
   "cell_type": "markdown",
   "metadata": {},
   "source": [
    "#### Classifier without vector feature"
   ]
  },
  {
   "cell_type": "code",
   "execution_count": 11,
   "metadata": {},
   "outputs": [
    {
     "name": "stdout",
     "output_type": "stream",
     "text": [
      "0.61\n",
      "0.3783783783783784\n",
      "0.4666666666666667\n",
      "0.417910447761194\n"
     ]
    }
   ],
   "source": [
    "test_accuracies = []\n",
    "test_precisions = []\n",
    "test_recalls = []\n",
    "test_f1_scores = []\n",
    "\n",
    "for i in range(10):\n",
    "    target = 'Ironic'\n",
    "    features = [col for col in new_df.columns\n",
    "                if col not in {'Sentence', target, 'Markers', 'Max vec dist', 'Max vec sg dist'}]\n",
    "    st_regr = LogisticRegression()\n",
    "    st_regr.fit(new_df[features], new_df[target])\n",
    "    \n",
    "    preds = st_regr.predict(test_df[features])\n",
    "    truths = test_df[target]\n",
    "    test_accuracies.append(accuracy_score(truths, preds))\n",
    "    test_precisions.append(precision_score(truths, preds))\n",
    "    test_recalls.append(recall_score(truths, preds))\n",
    "    test_f1_scores.append(f1_score(truths, preds))\n",
    "\n",
    "print(mean(test_accuracies))\n",
    "print(mean(test_precisions))\n",
    "print(mean(test_recalls))\n",
    "print(mean(test_f1_scores))"
   ]
  },
  {
   "cell_type": "markdown",
   "metadata": {},
   "source": [
    "#### Confusion matrix code\n",
    "replace model and plot title to plot another matrix"
   ]
  },
  {
   "cell_type": "code",
   "execution_count": 74,
   "metadata": {},
   "outputs": [
    {
     "data": {
      "image/png": "[encoded data removed]",
      "text/plain": [
       "<Figure size 504x504 with 2 Axes>"
      ]
     },
     "metadata": {
      "needs_background": "light"
     },
     "output_type": "display_data"
    }
   ],
   "source": [
    "fig, ax = plt.subplots(figsize=(7, 7))\n",
    "disp = plot_confusion_matrix(b_regr, test_df[b_feature].values.reshape(-1, 1), test_df[target],\n",
    "                     display_labels=['неироничное', 'ироничное'], cmap='gray', ax=ax)\n",
    "disp.ax_.set_title('Модель ELMo')\n",
    "plt.xlabel('Предсказанный класс')\n",
    "plt.ylabel('Истинный класс')\n",
    "plt.show()"
   ]
  },
  {
   "cell_type": "markdown",
   "metadata": {},
   "source": [
    "### Sampling sentences for testing sentiment hypotheses"
   ]
  },
  {
   "cell_type": "code",
   "execution_count": 21,
   "metadata": {},
   "outputs": [
    {
     "data": {
      "text/html": [
       "<div>\n",
       "<style scoped>\n",
       "    .dataframe tbody tr th:only-of-type {\n",
       "        vertical-align: middle;\n",
       "    }\n",
       "\n",
       "    .dataframe tbody tr th {\n",
       "        vertical-align: top;\n",
       "    }\n",
       "\n",
       "    .dataframe thead th {\n",
       "        text-align: right;\n",
       "    }\n",
       "</style>\n",
       "<table border=\"1\" class=\"dataframe\">\n",
       "  <thead>\n",
       "    <tr style=\"text-align: right;\">\n",
       "      <th></th>\n",
       "      <th>Sentence</th>\n",
       "      <th>Ironic</th>\n",
       "    </tr>\n",
       "  </thead>\n",
       "  <tbody>\n",
       "    <tr>\n",
       "      <th>0</th>\n",
       "      <td>И спустя пару дней прибегал лакомиться уже с р...</td>\n",
       "      <td>0.0</td>\n",
       "    </tr>\n",
       "    <tr>\n",
       "      <th>1</th>\n",
       "      <td>— Годик?!</td>\n",
       "      <td>0.0</td>\n",
       "    </tr>\n",
       "    <tr>\n",
       "      <th>2</th>\n",
       "      <td>Легкость, с которой элита по собственному разу...</td>\n",
       "      <td>1.0</td>\n",
       "    </tr>\n",
       "    <tr>\n",
       "      <th>3</th>\n",
       "      <td>Кто бы сомневался!</td>\n",
       "      <td>1.0</td>\n",
       "    </tr>\n",
       "    <tr>\n",
       "      <th>4</th>\n",
       "      <td>Съемки нового фильма о герое комиксов DC, Чело...</td>\n",
       "      <td>0.0</td>\n",
       "    </tr>\n",
       "  </tbody>\n",
       "</table>\n",
       "</div>"
      ],
      "text/plain": [
       "                                            Sentence  Ironic\n",
       "0  И спустя пару дней прибегал лакомиться уже с р...     0.0\n",
       "1                                          — Годик?!     0.0\n",
       "2  Легкость, с которой элита по собственному разу...     1.0\n",
       "3                                 Кто бы сомневался!     1.0\n",
       "4  Съемки нового фильма о герое комиксов DC, Чело...     0.0"
      ]
     },
     "execution_count": 21,
     "metadata": {},
     "output_type": "execute_result"
    }
   ],
   "source": [
    "ironies = df.loc[df['Ironic'] == 1].sample(50)\n",
    "non_ironies = df.loc[df['Ironic'] == 0].sample(50)\n",
    "samp_df = pd.concat([ironies, non_ironies], sort=False, axis=0)\n",
    "samp_df = samp_df.sample(frac=1).reset_index(drop=True)\n",
    "samp_df.head(5)"
   ]
  },
  {
   "cell_type": "code",
   "execution_count": 9,
   "metadata": {},
   "outputs": [],
   "source": [
    "def sent_tag(sent):\n",
    "    result = []\n",
    "    for word in word_tokenize(sent):\n",
    "        if word.isalpha():\n",
    "            lemma = m.parse(word)[0].normal_form\n",
    "            if lemma in wordlist:\n",
    "                tag = list(voc.loc[voc['term'] == lemma]['tag'])[0]\n",
    "            else:\n",
    "                tag = '-'\n",
    "            result.append(tag)\n",
    "    return ' '.join(result)"
   ]
  },
  {
   "cell_type": "code",
   "execution_count": 9,
   "metadata": {},
   "outputs": [],
   "source": [
    "def sent_val(sent):\n",
    "    result = []\n",
    "    for word in word_tokenize(sent):\n",
    "        if word.isalpha():\n",
    "            lemma = m.parse(word)[0].normal_form\n",
    "            if lemma in wordlist:\n",
    "                value = str(list(voc.loc[voc['term'] == lemma]['value'])[0])\n",
    "            else:\n",
    "                value = '-'\n",
    "            result.append(value)\n",
    "    return ' '.join(result)"
   ]
  },
  {
   "cell_type": "code",
   "execution_count": 27,
   "metadata": {},
   "outputs": [
    {
     "data": {
      "text/html": [
       "<div>\n",
       "<style scoped>\n",
       "    .dataframe tbody tr th:only-of-type {\n",
       "        vertical-align: middle;\n",
       "    }\n",
       "\n",
       "    .dataframe tbody tr th {\n",
       "        vertical-align: top;\n",
       "    }\n",
       "\n",
       "    .dataframe thead th {\n",
       "        text-align: right;\n",
       "    }\n",
       "</style>\n",
       "<table border=\"1\" class=\"dataframe\">\n",
       "  <thead>\n",
       "    <tr style=\"text-align: right;\">\n",
       "      <th></th>\n",
       "      <th>Sentence</th>\n",
       "      <th>Ironic</th>\n",
       "      <th>Sent tags</th>\n",
       "      <th>Sent weights</th>\n",
       "      <th>P&amp;N</th>\n",
       "      <th>P near N</th>\n",
       "    </tr>\n",
       "  </thead>\n",
       "  <tbody>\n",
       "    <tr>\n",
       "      <th>0</th>\n",
       "      <td>В духе того, что гаитяне не готовы к самостоятельному управлению государством.</td>\n",
       "      <td>0.0</td>\n",
       "      <td>- NEUT - - - - PSTV - PSTV NEUT NEUT</td>\n",
       "      <td>- 0.0 - - - - 0.6493 - 0.9444 0.364 0.2869</td>\n",
       "      <td>0</td>\n",
       "      <td>0</td>\n",
       "    </tr>\n",
       "    <tr>\n",
       "      <th>1</th>\n",
       "      <td>Стремительное бегство Путина из Сирии.</td>\n",
       "      <td>0.0</td>\n",
       "      <td>PSTV NGTV - - -</td>\n",
       "      <td>0.584 -0.514 - - -</td>\n",
       "      <td>1</td>\n",
       "      <td>1</td>\n",
       "    </tr>\n",
       "    <tr>\n",
       "      <th>2</th>\n",
       "      <td>Бальтазар — немой укор для всей нашей семьи.</td>\n",
       "      <td>1.0</td>\n",
       "      <td>- - NGTV - - - PSTV</td>\n",
       "      <td>- - -1.0 - - - 0.9828</td>\n",
       "      <td>1</td>\n",
       "      <td>0</td>\n",
       "    </tr>\n",
       "    <tr>\n",
       "      <th>3</th>\n",
       "      <td>Если нельзя но очень хочется, то можно!</td>\n",
       "      <td>1.0</td>\n",
       "      <td>- NGTV - NEUT NEUT - NEUT</td>\n",
       "      <td>- -0.9828 - 0.0 0.3684 - 0.5382</td>\n",
       "      <td>0</td>\n",
       "      <td>0</td>\n",
       "    </tr>\n",
       "    <tr>\n",
       "      <th>4</th>\n",
       "      <td>Угнетение!!!11!1</td>\n",
       "      <td>1.0</td>\n",
       "      <td>NGTV</td>\n",
       "      <td>-1.0</td>\n",
       "      <td>0</td>\n",
       "      <td>0</td>\n",
       "    </tr>\n",
       "  </tbody>\n",
       "</table>\n",
       "</div>"
      ],
      "text/plain": [
       "                                                                         Sentence  \\\n",
       "0  В духе того, что гаитяне не готовы к самостоятельному управлению государством.   \n",
       "1  Стремительное бегство Путина из Сирии.                                           \n",
       "2  Бальтазар — немой укор для всей нашей семьи.                                     \n",
       "3  Если нельзя но очень хочется, то можно!                                          \n",
       "4  Угнетение!!!11!1                                                                 \n",
       "\n",
       "   Ironic                             Sent tags  \\\n",
       "0  0.0     - NEUT - - - - PSTV - PSTV NEUT NEUT   \n",
       "1  0.0     PSTV NGTV - - -                        \n",
       "2  1.0     - - NGTV - - - PSTV                    \n",
       "3  1.0     - NGTV - NEUT NEUT - NEUT              \n",
       "4  1.0     NGTV                                   \n",
       "\n",
       "                                 Sent weights  P&N  P near N  \n",
       "0  - 0.0 - - - - 0.6493 - 0.9444 0.364 0.2869  0    0         \n",
       "1  0.584 -0.514 - - -                          1    1         \n",
       "2  - - -1.0 - - - 0.9828                       1    0         \n",
       "3  - -0.9828 - 0.0 0.3684 - 0.5382             0    0         \n",
       "4  -1.0                                        0    0         "
      ]
     },
     "execution_count": 27,
     "metadata": {},
     "output_type": "execute_result"
    }
   ],
   "source": [
    "samp_df['P&N'] = samp_df['Sentence'].apply(contrast_tone, flag ='pos_and_neg')\n",
    "samp_df['P near N'] = samp_df['Sentence'].apply(contrast_tone, flag ='pos_near_neg')\n",
    "\n",
    "samp_df.head(5)"
   ]
  },
  {
   "cell_type": "code",
   "execution_count": 14,
   "metadata": {},
   "outputs": [
    {
     "data": {
      "text/html": [
       "<div>\n",
       "<style scoped>\n",
       "    .dataframe tbody tr th:only-of-type {\n",
       "        vertical-align: middle;\n",
       "    }\n",
       "\n",
       "    .dataframe tbody tr th {\n",
       "        vertical-align: top;\n",
       "    }\n",
       "\n",
       "    .dataframe thead th {\n",
       "        text-align: right;\n",
       "    }\n",
       "</style>\n",
       "<table border=\"1\" class=\"dataframe\">\n",
       "  <thead>\n",
       "    <tr style=\"text-align: right;\">\n",
       "      <th></th>\n",
       "      <th>Sentence</th>\n",
       "      <th>Ironic</th>\n",
       "      <th>Sent tags</th>\n",
       "      <th>Sent weights</th>\n",
       "      <th>P&amp;N</th>\n",
       "      <th>P near N</th>\n",
       "    </tr>\n",
       "  </thead>\n",
       "  <tbody>\n",
       "    <tr>\n",
       "      <th>0</th>\n",
       "      <td>В духе того, что гаитяне не готовы к самостоятельному управлению государством.</td>\n",
       "      <td>0.0</td>\n",
       "      <td>- NEUT - - - - PSTV - PSTV NEUT NEUT</td>\n",
       "      <td>- 0.0 - - - - 0.6493 - 0.9444 0.364 0.2869</td>\n",
       "      <td>0</td>\n",
       "      <td>0</td>\n",
       "    </tr>\n",
       "    <tr>\n",
       "      <th>1</th>\n",
       "      <td>Стремительное бегство Путина из Сирии.</td>\n",
       "      <td>0.0</td>\n",
       "      <td>PSTV NGTV - - -</td>\n",
       "      <td>0.584 -0.514 - - -</td>\n",
       "      <td>0</td>\n",
       "      <td>0</td>\n",
       "    </tr>\n",
       "    <tr>\n",
       "      <th>2</th>\n",
       "      <td>Бальтазар — немой укор для всей нашей семьи.</td>\n",
       "      <td>1.0</td>\n",
       "      <td>- - NGTV - - - PSTV</td>\n",
       "      <td>- - -1.0 - - - 0.9828</td>\n",
       "      <td>0</td>\n",
       "      <td>0</td>\n",
       "    </tr>\n",
       "    <tr>\n",
       "      <th>3</th>\n",
       "      <td>Если нельзя но очень хочется, то можно!</td>\n",
       "      <td>1.0</td>\n",
       "      <td>- NGTV - NEUT NEUT - NEUT</td>\n",
       "      <td>- -0.9828 - 0.0 0.3684 - 0.5382</td>\n",
       "      <td>0</td>\n",
       "      <td>0</td>\n",
       "    </tr>\n",
       "    <tr>\n",
       "      <th>4</th>\n",
       "      <td>Угнетение!!!11!1</td>\n",
       "      <td>1.0</td>\n",
       "      <td>NGTV</td>\n",
       "      <td>-1.0</td>\n",
       "      <td>0</td>\n",
       "      <td>0</td>\n",
       "    </tr>\n",
       "  </tbody>\n",
       "</table>\n",
       "</div>"
      ],
      "text/plain": [
       "                                                                         Sentence  \\\n",
       "0  В духе того, что гаитяне не готовы к самостоятельному управлению государством.   \n",
       "1  Стремительное бегство Путина из Сирии.                                           \n",
       "2  Бальтазар — немой укор для всей нашей семьи.                                     \n",
       "3  Если нельзя но очень хочется, то можно!                                          \n",
       "4  Угнетение!!!11!1                                                                 \n",
       "\n",
       "   Ironic                             Sent tags  \\\n",
       "0  0.0     - NEUT - - - - PSTV - PSTV NEUT NEUT   \n",
       "1  0.0     PSTV NGTV - - -                        \n",
       "2  1.0     - - NGTV - - - PSTV                    \n",
       "3  1.0     - NGTV - NEUT NEUT - NEUT              \n",
       "4  1.0     NGTV                                   \n",
       "\n",
       "                                 Sent weights  P&N  P near N  \n",
       "0  - 0.0 - - - - 0.6493 - 0.9444 0.364 0.2869  0    0         \n",
       "1  0.584 -0.514 - - -                          0    0         \n",
       "2  - - -1.0 - - - 0.9828                       0    0         \n",
       "3  - -0.9828 - 0.0 0.3684 - 0.5382             0    0         \n",
       "4  -1.0                                        0    0         "
      ]
     },
     "execution_count": 14,
     "metadata": {},
     "output_type": "execute_result"
    }
   ],
   "source": [
    "samp_df['Sent tags'] = samp_df['Sentence'].apply(sent_tag)\n",
    "samp_df['Sent weights'] = samp_df['Sentence'].apply(sent_val)\n",
    "\n",
    "samp_df.head(5)"
   ]
  },
  {
   "cell_type": "code",
   "execution_count": 93,
   "metadata": {},
   "outputs": [],
   "source": [
    "samp_df.to_csv('Sentiment hypotheses testing.csv', index=False, sep=';')"
   ]
  }
 ],
 "metadata": {
  "kernelspec": {
   "display_name": "Python 3",
   "language": "python",
   "name": "python3"
  },
  "language_info": {
   "codemirror_mode": {
    "name": "ipython",
    "version": 3
   },
   "file_extension": ".py",
   "mimetype": "text/x-python",
   "name": "python",
   "nbconvert_exporter": "python",
   "pygments_lexer": "ipython3",
   "version": "3.7.3"
  }
 },
 "nbformat": 4,
 "nbformat_minor": 2
}
